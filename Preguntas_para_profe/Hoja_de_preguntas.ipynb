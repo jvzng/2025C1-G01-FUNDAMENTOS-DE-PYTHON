{
 "cells": [
  {
   "cell_type": "markdown",
   "metadata": {},
   "source": [
    "¿Por qué esto no funciona y cuál es la manera correcta de plantearlo?\n",
    "\n",
    "def mi_funcion(dato1, dato2):\n",
    "  dato1 = input(\"Ingrese el primer dato\")\n",
    "  dato2 = input(\"Ingrese el segundo dato\")\n",
    "  resultado = dato1 * dato2\n",
    "  return resultado\n",
    "resultado= mi_funcion(dato1, dato2)\n",
    "print(resultado)"
   ]
  },
  {
   "cell_type": "code",
   "execution_count": null,
   "metadata": {},
   "outputs": [],
   "source": [
    "def mi_funcion(dato1, dato2):\n",
    "  dato1 = input(\"Ingrese el primer dato\")\n",
    "  dato2 = input(\"Ingrese el segundo dato\")\n",
    "  resultado = dato1 * dato2\n",
    "  return resultado\n",
    "resultado= mi_funcion(dato1, dato2)\n",
    "print(resultado)"
   ]
  },
  {
   "cell_type": "markdown",
   "metadata": {},
   "source": [
    "¿Por qué el input va al final de la funcion y no al incio? -- No se puede hacer: input y luego print?"
   ]
  },
  {
   "cell_type": "code",
   "execution_count": null,
   "metadata": {},
   "outputs": [],
   "source": [
    "def area_de_circulo(radio=5): #radios = 5 indica que es un parametro opcional, por defecto el valor de radio es de (5)\n",
    "    resultado = pi * (radio ** 2)\n",
    "    print(f\"El área del circulo con el radio {radio} es: {resultado:.2}\")\n",
    "\n",
    "radio = float(input(\"Por favor ingrese la medida del radio del círculo\"))\n",
    "area_de_circulo (radio)"
   ]
  }
 ],
 "metadata": {
  "language_info": {
   "name": "python"
  }
 },
 "nbformat": 4,
 "nbformat_minor": 2
}
