{
 "cells": [
  {
   "cell_type": "markdown",
   "metadata": {},
   "source": [
    "## ¿Que es Python?\n",
    "\n",
    "Bueno, ¿sabes qué? Python es un lenguaje de programación absolutamente increíble. Fue creado por Guido van Rossum en 1991, y desde entonces ha sido adoptado por algunas de las empresas más innovadoras y exitosas del mundo, como Google, Facebook y Dropbox.\n",
    "1.\tEs un lenguaje de programación interpretado de alto nivel. Esto significa que el código de Python no necesita ser compilado antes de ser ejecutado, como sucede en otros lenguajes de programación.\n",
    "2.\tFue creado en 1991 por Guido van Rossum en los Países Bajos. El nombre de Python fue inspirado en el grupo de comediantes británicos Monty Python.\n",
    "3.\tEs un lenguaje de programación multiplataforma, lo que significa que se puede ejecutar en diferentes sistemas operativos como Windows, Linux y macOS.\n",
    "4.\tPython es un lenguaje de programación de propósito general, lo que significa que se puede utilizar para crear una amplia variedad de programas y aplicaciones, como aplicaciones de escritorio, aplicaciones web, herramientas de automatización, aplicaciones científicas y de análisis de datos, entre otras.\n",
    "5.\tPython es un lenguaje de programación de código abierto y tiene una gran comunidad de desarrolladores en todo el mundo. Esto significa que hay una gran cantidad de recursos en línea, bibliotecas y módulos disponibles para Python.\n",
    "6.\tPython es conocido por su sintaxis clara y legible, lo que lo hace fácil de aprender para principiantes. La filosofía de diseño de Python se enfoca en la legibilidad del código, lo que significa que el código debe ser fácil de entender y leer para los humanos.\n",
    "7.\tUna de las mayores fortalezas de Python es su amplia colección de bibliotecas y módulos, que permiten a los programadores realizar tareas complejas con muy pocas líneas de código.\n",
    "8.\tPython también es utilizado ampliamente en áreas como la ciencia de datos, la inteligencia artificial, el aprendizaje automático, y la automatización de tareas, gracias a bibliotecas especializadas como NumPy, Pandas, TensorFlow y Selenium, entre otras.\n",
    "\n",
    "\n",
    "\n",
    "El código fuente es el conjunto de instrucciones escritas en un lenguaje de programación específico que un programador escribe para crear un programa de software. El código fuente es el texto que se puede leer y editar con un editor de texto simple. Este código es lo que el compilador o intérprete utiliza para convertir el programa en un formato que la computadora pueda entender y ejecutar.\n",
    "Por otro lado, un IDE (Integrated Development Environment) o Entorno de Desarrollo Integrado en español, es un software que proporciona herramientas y funciones para facilitar el desarrollo de software. Un IDE típicamente incluye un editor de código, un depurador, un compilador o intérprete, herramientas para refactorizar código, y otras características útiles para desarrollar software."
   ]
  },
  {
   "cell_type": "markdown",
   "metadata": {
    "id": "aXc-HjBfC2Co"
   },
   "source": [
    "# Sintaxis y Comentarios\n",
    "*   Comentarios de linea, multiple linea\n",
    "*   Sintaxis identada\n",
    "*   Salidas -> print()\n",
    "\n",
    "\n"
   ]
  },
  {
   "cell_type": "code",
   "execution_count": 1,
   "metadata": {
    "colab": {
     "base_uri": "https://localhost:8080/"
    },
    "executionInfo": {
     "elapsed": 10485,
     "status": "ok",
     "timestamp": 1712064323417,
     "user": {
      "displayName": "Andrés Mena Abarca",
      "userId": "07418092259593836578"
     },
     "user_tz": 360
    },
    "id": "n3rOsUESDeTs",
    "outputId": "1cd40ed7-f1d2-4b89-bca5-696418df0021"
   },
   "outputs": [
    {
     "name": "stdout",
     "output_type": "stream",
     "text": [
      "Hola Javier, pongase a trabajar\n"
     ]
    }
   ],
   "source": [
    "# Un comentario de multiples línea se abre cuando se colocan 3 \"\"\" seguidas.\n",
    "# Las comillas Simples se utilizan para texto simple\n",
    "# Las Comillas doble se utilizan con multiples líneas.\n",
    "\n",
    "\"\"\" \n",
    "Este es un comentario de multiples líneas\n",
    "Lo que significa que podemos hacer varías líneas de comentarios\n",
    "tal cual lo muestra este ejemplo\n",
    "\n",
    "\"\"\"\n",
    "#A diferencia de este comentario de una sola línea\n",
    "\n",
    "Nombre = input(\"Ingrese su nombre porfavor\") # Recolectar datos del usuario #el input es una entrada\n",
    "print(f\"Hola {Nombre}, pongase a trabajar\") #print nos va imprir el input o el resultado final de lo que hemos programado"
   ]
  },
  {
   "cell_type": "markdown",
   "metadata": {
    "id": "xPykWl3ETS5_"
   },
   "source": [
    "* Comillas dobles: Se utilizan para la interpolación de variables y para cadenas de texto que abarcan varias líneas.\n",
    "* Comillas simples: Se utilizan para cadenas de texto simples que no requieren interpolación de variables."
   ]
  },
  {
   "cell_type": "markdown",
   "metadata": {
    "id": "3upOEvooD4h8"
   },
   "source": [
    "\n",
    "\n",
    "---\n",
    "# Trabajemos con los diferentes tipos de datos en Python\n",
    "\n",
    "* String: Cadenas de caracteres ->\"string\"  ->'string'\n",
    "* Enteros\n",
    "* Flotantes -> Decimal\n",
    "* Boleanos # True ->1  False ->0\n",
    "\n",
    "### **La inferencia de tipos en Python:**\n",
    "La inferencia de tipos es una característica de Python que permite al intérprete deducir el tipo de dato de una variable a partir del contexto en el que se usa.\n",
    "\n",
    "### **Sintaxis Variables:**\n",
    "\n",
    "1.   Empezar con una letra o guion bajo (_).\n",
    "2.   Contener solo letras, números y guiones bajos.\n",
    "3.   No ser palabras clave reservadas del lenguaje Python."
   ]
  },
  {
   "cell_type": "code",
   "execution_count": 2,
   "metadata": {
    "id": "By8jW6m9EHif",
    "outputId": "f40dd5ab-578c-4153-c3e9-0cde8eadad97"
   },
   "outputs": [
    {
     "name": "stdout",
     "output_type": "stream",
     "text": [
      "<class 'str'>\n",
      "<class 'int'>\n",
      "<class 'float'>\n",
      "<class 'bool'>\n",
      "2025.0 <class 'float'>\n",
      "float -> int 2025 <class 'int'>\n"
     ]
    }
   ],
   "source": [
    "mensaje = \"Hola Mundo desde Phyton\"\n",
    "numero = 2025\n",
    "version = 1.2\n",
    "Visible = True\n",
    "\n",
    "print(type(mensaje))\n",
    "print(type(numero))\n",
    "print(type(version))\n",
    "print(type(Visible))\n",
    "\n",
    "#Conocer el tipo de una variable\n",
    "\n",
    "numero = float(numero)\n",
    "print(numero, type(numero))\n",
    "\n",
    "#convertir float - > int\n",
    "\n",
    "numero = 2025\n",
    "numero = int(numero)\n",
    "print(\"float -> int\", numero, type(numero))"
   ]
  },
  {
   "cell_type": "code",
   "execution_count": null,
   "metadata": {},
   "outputs": [],
   "source": [
    "edad = int\n",
    "año = int(2025)\n",
    "\n",
    "nombre, edad, profesion = input(\"Ingrese su nombre\"), input(\"Ingrese su edad\"), input(\"Ingrese su profesion\")\n",
    "\n",
    "print(f\"Tu nombre es {nombre}, tienes {edad} años, y eres {profesion},\\n\")"
   ]
  },
  {
   "cell_type": "markdown",
   "metadata": {
    "id": "Y68Lec-cMkGb"
   },
   "source": [
    "## **Consejos para elegir nombres de variables correctos:**\n",
    "\n",
    "* Ser descriptivos: Deben indicar el contenido de la variable.\n",
    "* Ser cortos y simples: Deben ser fáciles de recordar y escribir.\n",
    "* Ser consistentes: Usar el mismo estilo de mayúsculas y minúsculas.\n",
    "* Evitar palabras clave: No usar palabras reservadas del lenguaje Python.\n",
    "* Utilizar prefijos y sufijos: Se pueden usar para agrupar variables relacionadas.\n",
    "\n",
    "**Ejemplo de nombres de variables correctos:**\n",
    "\n",
    "* nombre_completo: Almacena el nombre completo de una persona.\n",
    "* edad: Almacena la edad de una persona.\n",
    "* lista_de_compras: Almacena una lista de productos para comprar.\n",
    "* oordenada_x: Almacena la coordenada X de un punto."
   ]
  },
  {
   "cell_type": "markdown",
   "metadata": {
    "id": "SWxJC-NqHB43"
   },
   "source": [
    "# Leer Datos -> input\n"
   ]
  },
  {
   "cell_type": "code",
   "execution_count": 3,
   "metadata": {
    "id": "3hTS7twHHEmZ"
   },
   "outputs": [
    {
     "name": "stdout",
     "output_type": "stream",
     "text": [
      "su edad es: 29\n"
     ]
    }
   ],
   "source": [
    "edad = input(\"Ingrese su edad: \")\n",
    "print(F\"su edad es: {edad}\")"
   ]
  },
  {
   "cell_type": "markdown",
   "metadata": {
    "id": "wgqsXqXaIYv4"
   },
   "source": [
    "# Operadores aritméticos:\n",
    "\n",
    " * Suma: +\n",
    " * Resta: -\n",
    " * Multiplicación: *\n",
    " * División: /\n",
    " * División entera: //\n",
    " * Módulo (residuo de la división) %"
   ]
  },
  {
   "cell_type": "code",
   "execution_count": null,
   "metadata": {
    "colab": {
     "base_uri": "https://localhost:8080/"
    },
    "executionInfo": {
     "elapsed": 257,
     "status": "ok",
     "timestamp": 1711933005155,
     "user": {
      "displayName": "Andrés Mena Abarca",
      "userId": "07418092259593836578"
     },
     "user_tz": 360
    },
    "id": "cX0sWCMjHmQ2",
    "outputId": "611d6e18-15d0-401b-a6ba-ad20548da759"
   },
   "outputs": [],
   "source": [
    "num1 = 10\n",
    "num2 = 5\n",
    "\n",
    "suma = num1 + num2 #Ejemplo de suma\n",
    "resta = num1 - num2 #Ejemplo de resta\n",
    "multipliacion = num1 * num2 #Ejemplo de multipliación\n",
    "division = num1 / num2 #ejemplo de division comun\n",
    "division_entera = num1 // num2 #La division entera no pone decimales, los elimina\n",
    "modulo = num1 % num2 #mod es una division modular, es decir, nos retorna el reciduo de la division. \n",
    "potencia = num1 ** num2\n",
    "\n",
    "\n",
    "\n",
    "print(f\"La suma de {num1} con {num2} es igual {suma}\")\n",
    "\n",
    "print(f\"La resta de {num1} con {num2} es igual {resta}\")\n",
    "\n",
    "print(f\"La multiplicación de {num1} por {num2} es igual a {multipliacion}\")\n",
    "\n",
    "num1 = 11\n",
    "\n",
    "print(f\"La división de {num1} entre {num2} es igual a {division}\")\n",
    "\n",
    "print(f\"La división entera de {num1} entre {num2} es igual a {division_entera}\")\n",
    "\n",
    "print(f\"La división modulo de {num1} entre {num2} es igual a {modulo}\")\n",
    "\n",
    "print(f\"La potencia de {num1} a la {num2} es igual a {potencia}\")"
   ]
  },
  {
   "cell_type": "markdown",
   "metadata": {
    "id": "CzgpMa2tJkC5"
   },
   "source": [
    "# Ejemplo simple de cómo leer y mostrar data"
   ]
  },
  {
   "cell_type": "code",
   "execution_count": null,
   "metadata": {
    "id": "JbFAzFkTJr7v"
   },
   "outputs": [],
   "source": [
    "# Se solicitan al usuario la base y la altura del triángulo.\n",
    "# -----> Entrada \n",
    "\n",
    "# Se muestran los tipos de dato de las variables.\n",
    "\n",
    "base = float(input(\"Por favor ingrese la medida de la base del tríangulo\"))\n",
    "\n",
    "altura = float(input(\"Por favor ingrese la medida de la altura del tríangulo\"))\n",
    "\n",
    "# -----> Proceso \n",
    "# Se calcula el área del triángulo.\n",
    "area = (base * altura) / 2\n",
    "\n",
    "\n",
    "# -----> Salida \n",
    "# Se muestra el resultado del área del triángulo al usuario.\n",
    "print(f\"El área del triángulo es: {float(area)}\")\n",
    "\n",
    "# Se espera que el usuario presione una tecla para salir.\n",
    "input(\"Presione una tecla para salir...\")"
   ]
  },
  {
   "cell_type": "markdown",
   "metadata": {
    "id": "nJduay5fUAZG"
   },
   "source": [
    "\n",
    "\n",
    "---\n",
    "# Manejo de Cadenas de Texto en Python\n",
    "En Python, las cadenas de texto (strings) son objetos inmutables que se pueden manipular de diversas maneras. Las operaciones que se pueden realizar sobre las cadenas de texto incluyen:\n",
    "\n",
    "1. **Concatenación:** Se utiliza el operador + para unir dos cadenas de texto."
   ]
  },
  {
   "cell_type": "code",
   "execution_count": 4,
   "metadata": {
    "id": "BfYunLoJUaeu"
   },
   "outputs": [
    {
     "name": "stdout",
     "output_type": "stream",
     "text": [
      "Hola mundo!\n"
     ]
    }
   ],
   "source": [
    "cadena1 = \"Hola\"\n",
    "cadena2 = \"mundo!\"\n",
    "\n",
    "cadena_concatenada = cadena1 + \" \" + cadena2\n",
    "\n",
    "print(cadena_concatenada)"
   ]
  },
  {
   "cell_type": "markdown",
   "metadata": {
    "id": "Et_GyxAQUYjk"
   },
   "source": [
    "2. **Repetición:** Se utiliza el operador * para repetir una cadena de texto un número determinado de veces.\n"
   ]
  },
  {
   "cell_type": "code",
   "execution_count": 5,
   "metadata": {
    "id": "-GcPH1hwUqZJ"
   },
   "outputs": [
    {
     "name": "stdout",
     "output_type": "stream",
     "text": [
      "HolaHolaHolaHolaHola\n"
     ]
    }
   ],
   "source": [
    "cadena = \"Hola\"\n",
    "\n",
    "cadena_repetida = cadena * 5\n",
    "\n",
    "print(cadena_repetida)"
   ]
  },
  {
   "cell_type": "markdown",
   "metadata": {
    "id": "vZ6xLMxvUPJ5"
   },
   "source": [
    "3. **Indexación y corte:**\n",
    "*  Se pueden acceder a los caracteres de una cadena de texto utilizando índices.\n",
    "*  Se pueden obtener subcadenas de una cadena de texto utilizando el operador de corte ([:])."
   ]
  },
  {
   "cell_type": "code",
   "execution_count": 29,
   "metadata": {
    "colab": {
     "base_uri": "https://localhost:8080/"
    },
    "executionInfo": {
     "elapsed": 257,
     "status": "ok",
     "timestamp": 1711935831706,
     "user": {
      "displayName": "Andrés Mena Abarca",
      "userId": "07418092259593836578"
     },
     "user_tz": 360
    },
    "id": "I5_veaY9U3i7",
    "outputId": "c99d3854-145e-436c-9542-47d557a53bc2"
   },
   "outputs": [
    {
     "name": "stdout",
     "output_type": "stream",
     "text": [
      "La frase - Hola Python! - está compuesta por 12 letras\n",
      "La cadena es la siguiente: Hola Python!\n",
      "La posición que has seleccionado es la letra - a - de la cadena\n",
      "Si dividimos la cadena en 2 partes esta sería la primer parte: Hola P\n",
      "Esta sería la segunda parte: ython!\n",
      "Acá volvemos a unir ambar partes de la cadena para volver a la versión original: Hola Python!\n"
     ]
    }
   ],
   "source": [
    "#         01234567891011 \n",
    "cadena = \"Hola Python!\"\n",
    "\n",
    "#longitud de la frase\n",
    "print(f\"La frase - {cadena} - está compuesta por\", len(cadena), \"letras\")\n",
    "print(f\"La cadena es la siguiente:\", cadena)\n",
    "\n",
    "\n",
    "# Acceder a un caracter\n",
    "print(f\"La posición que has seleccionado es la letra -\", cadena[3], \"- de la cadena\") \n",
    "\n",
    "#subcadenas\n",
    "#Primera parte de la Frase\n",
    "parte1= (cadena[:6])\n",
    "print(f\"Si dividimos la cadena en 2 partes esta sería la primer parte:\", cadena[:6])\n",
    "\n",
    "# Obtener una subcadena\n",
    "#Segunda parte de la frase\n",
    "parte2= (cadena[6:])\n",
    "print(f\"Esta sería la segunda parte:\", cadena[6:])\n",
    "\n",
    "#union de las 2 subcadenas\n",
    "\n",
    "print(f\"Acá volvemos a unir ambar partes de la cadena para volver a la versión original:\", parte1 + parte2)\n"
   ]
  },
  {
   "cell_type": "markdown",
   "metadata": {
    "id": "SLQg3T9PU-ry"
   },
   "source": [
    "4. **Métodos de las cadenas:**Las cadenas de texto en Python tienen una gran cantidad de métodos que se pueden utilizar para realizar diversas operaciones. Algunos de los métodos más comunes son:\n",
    "\n",
    "*  **upper():** Convierte la cadena a mayúsculas.\n",
    "*  **lower():** Convierte la cadena a minúsculas.\n",
    "*  **strip():** Elimina los espacios en blanco al principio y al final de la cadena.\n",
    "*  **find():** Busca la primera aparición de una subcadena en la cadena.\n",
    "*  **replace():** Reemplaza una subcadena por otra en la cadena."
   ]
  },
  {
   "cell_type": "code",
   "execution_count": 31,
   "metadata": {
    "id": "eQZJOiezVuIb"
   },
   "outputs": [
    {
     "name": "stdout",
     "output_type": "stream",
     "text": [
      "HOLA ESTUDIANTES\n",
      "hola profes\n",
      "Saludos bienvenidos al curso de python\n",
      "2023 saludos bienvenidos al curso de python\n",
      "Inversor: 2023 SALUDOS BIENVENIDOS AL curso de python\n",
      "Saludos mi nombre es Andrés\n",
      "111111111\n",
      "True\n",
      "True\n",
      "5\n",
      "2\n"
     ]
    }
   ],
   "source": [
    "#MAYUSCULA\n",
    "texto = \"hola estudiantes\"\n",
    "x = texto.upper()\n",
    "print(x)\n",
    "\n",
    "#MINUSCULA\n",
    "texto = \"hola PROFES\"\n",
    "x = texto.lower()\n",
    "print(x)\n",
    "\n",
    "\n",
    "#CONVERTIR EN MAYUSCULA LA PRIMERA LETRA\n",
    "texto = \"saludos bienvenidos al curso de PYTHON\"\n",
    "x = texto.capitalize()\n",
    "print(x)\n",
    "\n",
    "texto = \"2023 saludos bienvenidos al curso de PYTHON\"\n",
    "x = texto.capitalize()\n",
    "print(x)\n",
    "\n",
    "#INVERSOR\n",
    "texto = \"2023 saludos bienvenidos al CURSO DE PYTHON\"\n",
    "x = texto.swapcase()\n",
    "print(f\"Inversor:\", x)\n",
    "\n",
    "#REPLACE\n",
    "texto = \"Hola mi nombre es Andrés\"\n",
    "print(texto.replace(\"Hola\",\"Saludos\"))\n",
    "\n",
    "ced = \"1-1111-1111\"\n",
    "x= ced.replace(\"-\",\"\")\n",
    "print(x)\n",
    "\n",
    "# Comprobar si la cadena solo contiene letras\n",
    "cadena = \"Hola\"\n",
    "print(cadena.isalpha())\n",
    "# True\n",
    "\n",
    "# Comprobar si la cadena solo contiene números\n",
    "cadena = \"123\"\n",
    "print(cadena.isdigit())\n",
    "# True\n",
    "\n",
    "# Buscar la primera aparición de una subcadena\n",
    "cadena = \"Hola mundo!\"\n",
    "print(cadena.find(\"mundo\"))\n",
    "# Salida:\n",
    "# 6\n",
    "\n",
    "#CONTAR CUANTAS VECES APARECE UNA PALABRA\n",
    "txt= \"Este es curso Python y sera muy interactivo muy Python\"\n",
    "x = txt.count(\"Python\")\n",
    "print(x)\n"
   ]
  },
  {
   "cell_type": "markdown",
   "metadata": {
    "id": "RZQRsLrLOEbs"
   },
   "source": [
    "# Convenciones de Python (PEP 8)\n",
    "\n",
    "Las convenciones de Python, también conocidas como PEP 8 (Python Enhancement Proposal 8), son un conjunto de lineamientos para escribir código Python de forma legible, consistente y mantenible. Estas convenciones abarcan desde el estilo de nombrado de variables hasta la estructura del código.\n",
    "\n",
    "## 1. Nombrado:\n",
    "\n",
    "*  **Letras y guiones bajos:** Los nombres de variables, funciones, clases y módulos deben comenzar con una letra o guion bajo y pueden contener letras, números y guiones bajos.\n",
    "*  **Mayúsculas y minúsculas:**\n",
    "Caso serpiente (snake_case): Se utiliza para variables y funciones. Las palabras se separan con guiones bajos. (Ej: total_costo)\n",
    "* **CamelCase:** Se utiliza para clases y nombres de archivos. La primera letra de cada palabra se escribe en mayúscula. (Ej: MiClasePrincipal)\n",
    "* **Constantes:** Se escriben en MAYÚSCULAS_SEPARADAS_POR_GUIONES_BAJOS. (Ej: PI, MAX_VELOCIDAD)\n",
    "Palabras reservadas: Evita usar palabras clave del lenguaje Python como nombres de variables.\n",
    "\n",
    "## 2. Sangría:\n",
    "\n",
    "* **Bloques de código:** La sangría (generalmente 4 espacios) se utiliza para definir bloques de código dentro de funciones, bucles, condicionales, etc. La sangría consistente es crucial para la legibilidad del código.\n",
    "\n",
    "## 3. Comentarios:\n",
    "\n",
    "*  **Docstrings:** Se utilizan para documentar funciones, clases y módulos. Proporcionan información sobre su propósito, parámetros y valores de retorno.\n",
    "*  **Comentarios en línea:** Se utilizan para explicar partes específicas del código y mejorar la comprensión del mismo.\n",
    "\n",
    "\n",
    "## 4. Espacios en blanco:\n",
    "\n",
    "* **Separadores:** Se utilizan espacios en blanco alrededor de operadores, después de comas, antes y después de paréntesis, corchetes y llaves.\n",
    "* **Líneas en blanco:** Se utilizan para separar secciones lógicas del código y mejorar la legibilidad.\n",
    "\n",
    "## 5. Importaciones:\n",
    "\n",
    "* **Módulos estándar:** Se importan al inicio del código utilizando la instrucción import.\n",
    "* **Funciones y clases de otros módulos:** Se importan utilizando la instrucción from <modulo> import <nombre>.\n",
    "\n",
    "#Beneficios de usar las convenciones de Python:\n",
    "\n",
    "* **Legibilidad:** El código es más fácil de leer y comprender para otros programadores.\n",
    "* **Mantenibilidad**: El código es más fácil de modificar y actualizar.\n",
    "* **Colaboración:** Las convenciones facilitan el trabajo en equipo.\n",
    "* **Herramientas:** Muchas herramientas de análisis de código y linters se basan en las convenciones de Python para detectar posibles errores de estilo.\n",
    "\n",
    "\n",
    "Ejemplo de código con las convenciones de Python:"
   ]
  },
  {
   "cell_type": "code",
   "execution_count": 45,
   "metadata": {
    "colab": {
     "base_uri": "https://localhost:8080/"
    },
    "executionInfo": {
     "elapsed": 224,
     "status": "ok",
     "timestamp": 1711934569730,
     "user": {
      "displayName": "Andrés Mena Abarca",
      "userId": "07418092259593836578"
     },
     "user_tz": 360
    },
    "id": "gQ2jcJFZQExd",
    "outputId": "ebac5822-4d56-4980-98bf-c46c280e304e"
   },
   "outputs": [
    {
     "name": "stdout",
     "output_type": "stream",
     "text": [
      "18\n"
     ]
    }
   ],
   "source": [
    "\n",
    "\"\"\"def mi_funcion(param1, param2):\n",
    "\n",
    "  Esta función realiza una tarea específica.\n",
    "\n",
    "  Parámetros:\n",
    "    param1: El primer parámetro de la función.\n",
    "    param2: El segundo parámetro de la función.\n",
    "\n",
    "  Retorno:\n",
    "    El resultado de la función.\n",
    "\n",
    "\n",
    "  # Se realiza una operación con los parámetros\n",
    "  resultado = param1 + param2\n",
    "\n",
    "  # Se retorna el resultado\n",
    "  return resultado\n",
    "\n",
    "# Se llama a la función\n",
    "resultado = mi_funcion(10, 20)\n",
    "\n",
    "# Se imprime el resultado\n",
    "print(resultado)  \"\"\"\n",
    "\n",
    "\n",
    "\n",
    "\n",
    "\n",
    "def mi_funcion(dato1, dato2):\n",
    "  resultado = dato1 * dato2\n",
    "  return resultado\n",
    "resultado= mi_funcion(6,3)\n",
    "print(resultado)\n",
    "\n"
   ]
  },
  {
   "cell_type": "markdown",
   "metadata": {
    "id": "I2UPS1_HQS3k"
   },
   "source": [
    "# Recursos adicionales:\n",
    "\n",
    "* PEP 8 Style Guide for Python Code: [https://peps.python.org/pep-0008/](https://peps.python.org/pep-0008/)\n",
    "* Guía de estilo para el código Python – PEP 8 en Español: [https://recursospython.com/pep8es.pdf](https://recursospython.com/pep8es.pdf)\n",
    "* El Pythonista - Guía de estilos en Python: [https://elpythonista.com/pep-8](https://elpythonista.com/pep-8)"
   ]
  }
 ],
 "metadata": {
  "colab": {
   "provenance": []
  },
  "kernelspec": {
   "display_name": "Python 3",
   "name": "python3"
  },
  "language_info": {
   "codemirror_mode": {
    "name": "ipython",
    "version": 3
   },
   "file_extension": ".py",
   "mimetype": "text/x-python",
   "name": "python",
   "nbconvert_exporter": "python",
   "pygments_lexer": "ipython3",
   "version": "3.13.2"
  }
 },
 "nbformat": 4,
 "nbformat_minor": 0
}
