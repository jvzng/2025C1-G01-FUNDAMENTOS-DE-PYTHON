{
 "cells": [
  {
   "cell_type": "markdown",
   "metadata": {},
   "source": [
    "3.1.6   LAB   Variables ‒ Preguntas y Respuestas\n",
    "Escenario\n",
    "\n",
    "Usando uno de los operadores de comparación en Python, escribe un programa simple de dos líneas que tome el parámetro n como entrada, que es un entero, e imprime False si n es menor que 100, y True if n es mayor o igual que 100.\n",
    "\n",
    "No debes crear ningún bloque if (hablaremos de ellos muy pronto). Prueba tu código usando los datos que te proporcionamos.\n",
    "\n",
    "Datos de Prueba\n",
    "\n",
    "Entrada de muestra: 55\n",
    "Salida esperada: False\n",
    "\n",
    "Entrada de muestra: 99\n",
    "Salida esperada: False\n",
    "\n",
    "\n",
    "Entrada de muestra: 100\n",
    "Salida esperada: True\n",
    "\n",
    "\n",
    "Entrada de muestra: 101\n",
    "Salida esperada: True\n",
    "\n",
    "\n",
    "Entrada de muestra: -5\n",
    "Salida esperada: False\n",
    "\n",
    "\n",
    "Entrada de muestra: +123\n",
    "Salida esperada:True"
   ]
  },
  {
   "cell_type": "code",
   "execution_count": 11,
   "metadata": {},
   "outputs": [
    {
     "name": "stdout",
     "output_type": "stream",
     "text": [
      "True\n"
     ]
    }
   ],
   "source": [
    "n = int(input(\"Por favor ingresa un número entero\"))\n",
    "print(n>=100)"
   ]
  },
  {
   "cell_type": "markdown",
   "metadata": {},
   "source": [
    "3.1.10   LAB   Operadores de comparación y ejecución condicional\n",
    "\n",
    "Escenario\n",
    "\n",
    "Espatifilo, más comúnmente conocida como la planta de Cuna de Moisés o flor de la paz, es una de las plantas para interiores más populares que filtra las toxinas dañinas del aire. Algunas de las toxinas que neutraliza incluyen benceno, formaldehído y amoníaco.\n",
    "\n",
    "Imagina que tu programa de computadora ama estas plantas. Cada vez que recibe una entrada en forma de la palabra Espatifilo, grite involuntariamente a la consola la siguiente cadena: \"¡Espatifilo es la mejor planta de todas!\"\n",
    "\n",
    "Escribe un programa que utilice el concepto de ejecución condicional, tome una cadena como entrada y que:\n",
    "\n",
    "imprima el enunciado \"Si - ¡El Espatifilo! es la mejor planta de todos los tiempos!\" en la pantalla si la cadena ingresada es \"ESPATIFILIO\" (mayúsculas)\n",
    "imprima \"No, ¡quiero un gran Espatifilo!\" si la cadena ingresada es \"espatifilo\" (minúsculas)\n",
    "imprima \"¡Espatifilo!, ¡No [entrada]!\" de lo contrario. Nota: [entrada] es la cadena que se toma como entrada.\n",
    "Prueba tu código con los datos que te proporcionamos. ¡Y hazte de un Espatifilo también!\n",
    "\n",
    "\n",
    "Datos de Prueba:\n",
    "Entrada de muestra: espatifilo\n",
    "\n",
    "Salida esperada: No, ¡quiero un gran Espatifilo!\n",
    "\n",
    "\n",
    "Entrada de muestra: pelargonio\n",
    "\n",
    "Salida esperada: ¡Espatifilo!, ¡No pelargonio!\n",
    "\n",
    "\n",
    "Entrada de muestra: Espatifilo\n",
    "\n",
    "Salida esperada: Si, ¡El Espatifilo! es la mejor planta de todos l"
   ]
  },
  {
   "cell_type": "code",
   "execution_count": null,
   "metadata": {},
   "outputs": [
    {
     "name": "stdout",
     "output_type": "stream",
     "text": [
      "¡Espatifilo es la mejor planta de todas!\n"
     ]
    }
   ],
   "source": [
    "name = input(\"Ingresa el nombre de la flor: \")\n",
    "\n",
    "if name == \"ESPATIFILIO\":\n",
    "    print(\"Si, ¡El ESPATIFILIO es la mejor planta de todos los tiempos!\")\n",
    "elif name == \"espatifilo\":\n",
    "    print(\"No, ¡quiero un gran ESPATIFILIO!\")\n",
    "else:\n",
    "    print(\"¡ESPATIFILIO!, ¡No\", name + \"!\")\n",
    "    \n"
   ]
  },
  {
   "cell_type": "markdown",
   "metadata": {},
   "source": [
    "3.1.11   LAB   Fundamentos de la sentencia if-else\n",
    "\n",
    "Escenario\n",
    "\n",
    "Érase una vez una tierra de leche y miel - habitada por gente feliz y próspera. La gente pagaba impuestos, por supuesto - su felicidad tenía límites. El impuesto más importante, denominado Impuesto Personal de Ingresos (IPI, para abreviar) tenía que pagarse una vez al año y se evaluó utilizando la siguiente regla:\n",
    "\n",
    "si el ingreso del ciudadano no era superior a 85,528 pesos, el impuesto era igual al 18% del ingreso menos 556 pesos y 2 centavos (esta fue la llamada exención fiscal).\n",
    "si el ingreso era superior a esta cantidad, el impuesto era igual a 14,839 pesos y 2 centavos, más el 32% del excedente sobre 85,528 pesos.\n",
    "Tu tarea es escribir una calculadora de impuestos.\n",
    "\n",
    "Debe aceptar un valor de punto flotante: el ingreso.\n",
    "A continuación, debe imprimir el impuesto calculado, redondeado a pesos totales. Hay una función llamada round() que hará el redondeo por ti - la encontrarás en el código de esqueleto del editor.\n",
    "Nota: este país feliz nunca devuelve dinero a sus ciudadanos. Si el impuesto calculado es menor que cero, solo significa que no hay impuesto (el impuesto es igual a cero). Ten esto en cuenta durante tus cálculos.\n",
    "\n",
    "Observa el código en el editor - solo lee un valor de entrada y genera un resultado, por lo que debes completarlo con algunos cálculos inteligentes.\n",
    "\n",
    "Prueba tu código con los datos que hemos proporcionado.\n",
    "\n",
    "Datos de Prueba\n",
    "Entrada de muestra: 10000\n",
    "Salida esperada: El impuesto es: 1244.0 pesos\n",
    "\n",
    "Entrada de muestra: 100000\n",
    "Salida esperada: El impuesto es: 19470.0 pesos\n",
    "\n",
    "Entrada de muestra: 1000\n",
    "Salida esperada: El impuesto es: 0.0 pesos\n",
    "\n",
    "Entrada de muestra: -100\n",
    "Salida esperada: El impuesto es: 0.0 pesos"
   ]
  },
  {
   "cell_type": "code",
   "execution_count": 9,
   "metadata": {},
   "outputs": [
    {
     "name": "stdout",
     "output_type": "stream",
     "text": [
      "El impuesto es: 0.0 pesos\n"
     ]
    }
   ],
   "source": [
    "ingreso = float(input(\"Introduce el ingreso anual: \"))\n",
    "\n",
    "if ingreso < 85528:\n",
    "    impuesto = ingreso * 0.18 - 556.02\n",
    "else:\n",
    "    impuesto = 14839.02 + 0.32 * (impuesto - 85528)\n",
    "\n",
    "# Asegurar que el impuesto no sea negativo\n",
    "if impuesto < 0:\n",
    "    impuesto = 0.0\n",
    "\n",
    "impuesto = round(impuesto, 0)\n",
    "print(\"El impuesto es:\", impuesto, \"pesos\")"
   ]
  },
  {
   "cell_type": "markdown",
   "metadata": {},
   "source": [
    "3.1.12   LAB   Fundamentos de la sentencia if-elif-else\n",
    "\n",
    "Escenario\n",
    "\n",
    "Como seguramente sabrás, debido a algunas razones astronómicas, el año puede ser bisiesto o común. Los primeros tienen una duración de 366 días, mientras que los últimos tienen una duración de 365 días.\n",
    "\n",
    "Desde la introducción del calendario Gregoriano (en 1582), se utiliza la siguiente regla para determinar el tipo de año:\n",
    "\n",
    "si el número del año no es divisible entre cuatro, es un año común.\n",
    "de lo contrario, si el número del año no es divisible entre 100, es un año bisiesto.\n",
    "de lo contrario, si el número del año no es divisible entre 400, es un año común.\n",
    "de lo contrario, es un año bisiesto.\n",
    "Observa el código en el editor - solo lee un número de año y debe completarse con las instrucciones que implementan la prueba que acabamos de describir.\n",
    "\n",
    "El código debe mostrar uno de los dos mensajes posibles, que son Año Bisiesto o Año Común, según el valor ingresado.\n",
    "\n",
    "Sería bueno verificar si el año ingresado cae en la era Gregoriana y emitir una advertencia de lo contrario: No dentro del período del calendario Gregoriano. Consejo: utiliza los operadores != y %.\n",
    "\n",
    "Prueba tu código con los datos que hemos proporcionado.\n",
    "\n",
    "Entrada de muestra: 2000\n",
    "Salida esperada: Año bisiesto\n",
    "\n",
    "Entrada de muestra: 2015\n",
    "Salida esperada: Año comun\n",
    "\n",
    "Entrada de muestra:1999\n",
    "Salida esperada: Año comun\n",
    "\n",
    "Entrada de muestra: 1996\n",
    "Salida esperada: Año bisiesto\n",
    "\n",
    "Entrada de muestra: 1580\n",
    "Salida esperada: No dentro del período del calendario gregoriano"
   ]
  },
  {
   "cell_type": "code",
   "execution_count": 10,
   "metadata": {},
   "outputs": [
    {
     "name": "stdout",
     "output_type": "stream",
     "text": [
      "Año bisiesto\n"
     ]
    }
   ],
   "source": [
    "año = int(input(\"Introduce un año: \"))\n",
    "\n",
    "if año < 1582:\n",
    "    print(\"No esta dentro del período del calendario Gregoriano\")\n",
    "else:\n",
    "    if año % 4 != 0:\n",
    "        print(\"Año comun\")\n",
    "    elif año % 100 != 0:\n",
    "        print(\"Año bisiesto\")\n",
    "    elif año % 400 != 0:\n",
    "        print(\"Año comun\")\n",
    "    else:\n",
    "        print(\"Año bisiesto\")"
   ]
  },
  {
   "cell_type": "markdown",
   "metadata": {},
   "source": [
    "3.2.9   LAB   La sentencia break - atrapado en un bucle\n",
    "\n",
    "Escenario\n",
    "\n",
    "La instrucción break se implementa para salir/terminar un bucle.\n",
    "\n",
    "Diseña un programa que use un bucle while y le pida continuamente al usuario que ingrese una palabra a menos que ingrese \"chupacabra\" como la palabra de output secreta, en cuyo caso el mensaje \"Has dejado el bucle con éxito.\" debe imprimirse en la pantalla y el bucle debe terminar.\n",
    "\n",
    "No imprimas ninguna de las palabras ingresadas por el usuario. Utiliza el concepto de ejecución condicional y la sentencia break.\n",
    "\n"
   ]
  },
  {
   "cell_type": "code",
   "execution_count": null,
   "metadata": {},
   "outputs": [],
   "source": [
    "while True:\n",
    "    palabra = input()\n",
    "    if palabra == \"chupacabra\":\n",
    "        print(\"Has dejado el bucle con éxito.\")\n",
    "        break"
   ]
  },
  {
   "cell_type": "markdown",
   "metadata": {},
   "source": [
    "3.2.12 El bucle while y el bloque else\n",
    "\n",
    "Ambos bucles while y for, tienen una característica interesante (y rara vez se usa).\n",
    "\n",
    "Te mostraremos como funciona - intenta juzgar por ti mismo si es utilizable.\n",
    "\n",
    "En otras palabras, trata de convencerte si la función es valiosa y útil, o solo es azúcar sintáctica.\n",
    "\n",
    "Echa un vistazo al fragmento en el editor. Hay algo extraño al final - la palabra reservada else.\n",
    "\n",
    "Como pudiste haber sospechado, los bucles también pueden tener la rama else, como los if.\n",
    "\n",
    "La rama else del bucle siempre se ejecuta una vez, independientemente de si el bucle ha entrado o no en su cuerpo.\n",
    "\n",
    "¿Puedes adivinar la output? Ejecuta el programa para comprobar si tenías razón."
   ]
  },
  {
   "cell_type": "code",
   "execution_count": 14,
   "metadata": {},
   "outputs": [
    {
     "name": "stdout",
     "output_type": "stream",
     "text": [
      "3\n",
      "4\n",
      "else: 5\n"
     ]
    }
   ],
   "source": [
    "i = 3\n",
    "while i < 5:\n",
    "    print(i)\n",
    "    i += 1\n",
    "else:\n",
    "    print(\"else:\", i)"
   ]
  },
  {
   "cell_type": "markdown",
   "metadata": {},
   "source": [
    "3.4.6   LAB   Los fundamentos de las listas\n",
    "\n",
    "Escenario\n",
    "\n",
    "Había una vez un sombrero. El sombrero no contenía conejo, sino una lista de cinco números: 1, 2, 3, 4, y 5.\n",
    "\n",
    "Tu tarea es:\n",
    "\n",
    "escribir una línea de código que solicite al usuario que reemplace el número central en la lista con un número entero ingresado por el usuario (Paso 1)\n",
    "escribir una línea de código que elimine el último elemento de la lista (Paso 2)\n",
    "escribir una línea de código que imprima la longitud de la lista existente (Paso 3).\n",
    "¿Listo para este desafío?"
   ]
  },
  {
   "cell_type": "code",
   "execution_count": 15,
   "metadata": {},
   "outputs": [
    {
     "name": "stdout",
     "output_type": "stream",
     "text": [
      "4\n"
     ]
    }
   ],
   "source": [
    "sombrero = [1, 2, 3, 4, 5]\n",
    "\n",
    "\n",
    "sombrero[2] = int(input())\n",
    "\n",
    "\n",
    "del sombrero[-1]\n",
    "\n",
    "#\n",
    "print(len(sombrero))"
   ]
  },
  {
   "cell_type": "markdown",
   "metadata": {},
   "source": [
    "3.4.11   LAB   Los fundamentos de las listas: los Beatles\n",
    "\n",
    "\n",
    "Escenario\n",
    "\n",
    "Los Beatles fueron uno de los grupos de música más populares de la década de 1960 y la banda más vendida en la historia. Algunas personas los consideran el acto más influyente de la era del rock. De hecho, se incluyeron en la compilación de la revista Time de las 100 personas más influyentes del siglo XX.\n",
    "\n",
    "La banda sufrió muchos cambios de formación, que culminaron en 1962 con la formación de John Lennon, Paul McCartney, George Harrison y Richard Starkey (mejor conocido como Ringo Starr).\n",
    "\n",
    "\n",
    "Escribe un programa que refleje estos cambios y le permita practicar con el concepto de listas. Tu tarea es:\n",
    "\n",
    "paso 1: crea una lista vacía llamada beatles;\n",
    "paso 2: emplea el método append() para agregar los siguientes miembros de la banda a la lista: John Lennon, Paul McCartney y George Harrison;\n",
    "paso 3: emplea el buclefor y el append() para pedirle al usuario que agregue los siguientes miembros de la banda a la lista: Stu Sutcliffe, y Pete Best;\n",
    "paso 4: usa la instrucción del para eliminar a Stu Sutcliffe y Pete Best de la lista;\n",
    "paso 5: usa el método insert() para agregar a Ringo Starr al principio de la lista.\n",
    "Por cierto, ¿eres fan de los Beatles? (Los Beatles son una de las bandas favoritas de Greg. Pero espera...¿Quién es Greg?)"
   ]
  },
  {
   "cell_type": "code",
   "execution_count": 16,
   "metadata": {},
   "outputs": [],
   "source": [
    "\n",
    "beatles = []\n",
    "\n",
    "\n",
    "beatles.append(\"John Lennon\")\n",
    "beatles.append(\"Paul McCartney\")\n",
    "beatles.append(\"George Harrison\")\n",
    "\n",
    "\n",
    "for _ in range(2):\n",
    "    beatles.append(input())\n",
    "\n",
    "\n",
    "del beatles[-1]\n",
    "del beatles[-1]\n",
    "\n",
    "beatles.insert(0, \"Ringo Starr\")"
   ]
  },
  {
   "cell_type": "markdown",
   "metadata": {},
   "source": [
    "3.6.6   LAB   Operaciones con listas: conceptos básicos\n",
    "\n",
    "\n",
    "Escenario\n",
    "\n",
    "Imagina una lista - no muy larga ni muy complicada, solo una lista simple que contiene algunos números enteros. Algunos de estos números pueden estar repetidos, y esta es la clave. No queremos ninguna repetición. Queremos que sean eliminados.\n",
    "\n",
    "Tu tarea es escribir un programa que elimine todas las repeticiones de números de la lista. El objetivo es tener una lista en la que todos los números aparezcan no más de una vez.\n",
    "\n",
    "Nota: Asume que la lista original está ya dentro del código - no tienes que ingresarla desde el teclado. Por supuesto, puedes mejorar el código y agregar una parte que pueda llevar a cabo una conversación con el usuario y obtener todos los datos.\n",
    "\n",
    "Sugerencia: Te recomendamos que crees una nueva lista como área de trabajo temporal - no necesitas actualizar la lista actual.\n",
    "\n",
    "No hemos proporcionado datos de prueba, ya que sería demasiado fácil. Puedes usar nuestro esqueleto en su lugar."
   ]
  },
  {
   "cell_type": "code",
   "execution_count": null,
   "metadata": {},
   "outputs": [],
   "source": []
  },
  {
   "cell_type": "code",
   "execution_count": 17,
   "metadata": {},
   "outputs": [],
   "source": [
    "\n",
    "beatles = []\n",
    "\n",
    "\n",
    "beatles.append(\"John Lennon\")\n",
    "beatles.append(\"Paul McCartney\")\n",
    "beatles.append(\"George Harrison\")\n",
    "\n",
    "\n",
    "for _ in range(2):\n",
    "    beatles.append(input())\n",
    "\n",
    "# Paso 4: Eliminar a Stu Sutcliffe y Pete Best\n",
    "del beatles[-1]\n",
    "del beatles[-1]\n",
    "\n",
    "\n",
    "beatles.insert(0, \"Ringo Starr\")"
   ]
  }
 ],
 "metadata": {
  "kernelspec": {
   "display_name": "Python 3",
   "language": "python",
   "name": "python3"
  },
  "language_info": {
   "codemirror_mode": {
    "name": "ipython",
    "version": 3
   },
   "file_extension": ".py",
   "mimetype": "text/x-python",
   "name": "python",
   "nbconvert_exporter": "python",
   "pygments_lexer": "ipython3",
   "version": "3.13.2"
  }
 },
 "nbformat": 4,
 "nbformat_minor": 2
}
