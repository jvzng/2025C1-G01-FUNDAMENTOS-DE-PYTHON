{
 "cells": [
  {
   "cell_type": "markdown",
   "metadata": {
    "id": "q7R3dARlFtDY"
   },
   "source": [
    "# Segundo análisis de casos – Fundamentos de Python\n",
    "\n",
    "## Objetivo:\n",
    "En esta tarea, practicaremos los fundamentos básicos de Python resolviendo **cuatro ejercicios** de la lista planteada. Cada solución debe detallar **entradas**, **procesos** y **salidas** para comprender mejor cómo funciona cada problema.\n",
    "\n",
    "### Formato para cada ejercicio (seleccionemos 4 ejercicios):\n",
    "#### Ejercicio X:\n",
    "- **Descripción del problema:** Incluiremos el enunciado del ejercicio.\n",
    "- **Entradas:** Detallaremos los datos que debemos ingresar.\n",
    "- **Proceso:** Explicaremos cómo resolveremos el problema (algoritmo o fórmula).\n",
    "- **Salidas:** Describiremos el resultado que veremos en pantalla al final del proceso.\n",
    "\n",
    "#### Código del ejercicio:\n",
    "- Escribiremos la solución del ejercicio en una celda de código Python.\n",
    "- Agregaremos comentarios para explicar el código y hacerlo más comprensible.\n",
    "\n",
    "### Conclusión:\n",
    "- Al final, resumiremos lo que hemos aprendido resolviendo los ejercicios.\n",
    "- Reflexionaremos sobre cómo Python nos ayuda a solucionar problemas cotidianos.\n",
    "\n",
    "## Formato de entrega del informe en PDF:\n",
    "\n",
    "Debemos exportar nuestro notebook de Jupyter a formato PDF, cumpliendo con las siguientes pautas:\n",
    "\n",
    "### Portada:\n",
    "- Título: \"Primer análisis de casos – Fundamentos de Python\".\n",
    "- Nuestro nombre completo.\n",
    "- Fecha de entrega.\n",
    "- Curso.\n",
    "\n",
    "### Cuerpo del informe:\n",
    "- **Introducción:** Explicaremos brevemente los ejercicios que hemos seleccionado.\n",
    "- **Desarrollo de cada ejercicio:**\n",
    "  - Descripción del problema.\n",
    "  - Entradas, procesos y salidas detallados.\n",
    "  - Capturas de pantalla del código y del resultado de la ejecución.\n",
    "\n",
    "### Conclusión:\n",
    "- Reflexionaremos sobre el aprendizaje y las posibles dificultades que enfrentamos durante la resolución de los ejercicios.\n",
    "\n",
    "## Lista de ejercicios (Seleccionemos 4):\n",
    "\n",
    "1. Calcular el área de un triángulo a partir de la base y altura ingresadas.\n",
    "2. Convertir una cantidad de dólares a colones.\n",
    "3. Convertir grados centígrados a Fahrenheit.\n",
    "4. Mostrar cuántos segundos tiene un lustro.\n",
    "5. Calcular el tiempo que le toma a la luz viajar del sol a Marte.\n",
    "6. Calcular cuántas vueltas da una llanta en 1 km.\n",
    "7. Calcular la longitud de la sombra de un edificio de 20 metros.\n",
    "8. Comparar si la edad ingresada por dos usuarios es la misma.\n",
    "9. Calcular cuántos meses han transcurrido desde nuestra fecha de nacimiento.\n",
    "10. Calcular el promedio de un alumno en 5 materias.\n",
    "\n",
    "## Proceso de entrega:\n",
    "1. Resolveremos 4 de los ejercicios propuestos en un notebook de.\n",
    "2. Exportaremos el notebook a PDF siguiendo el formato establecido.\n",
    "3. Subiremos el PDF y el archivo de notebook (.ipynb) a la plataforma antes de la fecha límite.\n"
   ]
  },
  {
   "cell_type": "markdown",
   "metadata": {},
   "source": [
    "# Problema #1\n",
    "\n",
    "### Convertir una cantidad de dólares a colones.\n",
    "\n",
    "## Entrada: \n",
    "Leer La cantidad de dolares\n",
    "Leer tipo cambio\n",
    "\n",
    "## Proceso:\n",
    "\n",
    "cantidad_dolares * tipo_cambio\n",
    "\n",
    "## Salida:\n",
    "\n",
    "resultado de la multiplicacion"
   ]
  },
  {
   "cell_type": "code",
   "execution_count": 1,
   "metadata": {
    "colab": {
     "base_uri": "https://localhost:8080/"
    },
    "executionInfo": {
     "elapsed": 10485,
     "status": "ok",
     "timestamp": 1712064323417,
     "user": {
      "displayName": "Andrés Mena Abarca",
      "userId": "07418092259593836578"
     },
     "user_tz": 360
    },
    "id": "n3rOsUESDeTs",
    "outputId": "1cd40ed7-f1d2-4b89-bca5-696418df0021"
   },
   "outputs": [
    {
     "name": "stdout",
     "output_type": "stream",
     "text": [
      "Currency Exchange \n",
      "\n",
      "Bienvenido a nuestro sistema de converción de divisas, de Dólares a Colones \n",
      "\n",
      "Javier, vamos a necesitar que por fvor nos brinde el tipo de cambio del Dólar \n",
      "\n",
      "El tipo de cambio que usted ingresó es 504.0 \n",
      "\n",
      "Javier, 10.0 dólares corresponde a 5040.0 colones\n"
     ]
    }
   ],
   "source": [
    "# Código solución aqui\n",
    "\n",
    "\"\"\" \n",
    "El tipo de cambio es una constante que necesitamos para este ejercio. \n",
    "Podemos asignarsela al código para que quede implícita o podemos solicitar al usuario\n",
    "que ingrese el tipo de cambio para el día en que se hace la consulta. \n",
    "Ya que no contamos con un archivo que nos actualice el tipo de cambio para la fecha actual vamos \n",
    "y con el fin de practicar inputs, formats, outputs o prints vamos a solicitar al usuario que nos \n",
    "brinde el tipo de cambio\n",
    "\n",
    "\"\"\"\n",
    "\n",
    "\n",
    "print(\"Currency Exchange\",\"\\n\")\n",
    "\n",
    "print(\"Bienvenido a nuestro sistema de converción de divisas, de Dólares a Colones\",\"\\n\")\n",
    "\n",
    "Nombre = input(\"Por favor ingrese su nombre:\")\n",
    "\n",
    "print(f\"{Nombre}, vamos a necesitar que por fvor nos brinde el tipo de cambio del Dólar\",\"\\n\")\n",
    "\n",
    "Tipo_de_Cambio_del_Dolar = float(input(\"Ingrese el tipo de cambio para el día de hoy\"))\n",
    "\n",
    "print(f\"El tipo de cambio que usted ingresó es {Tipo_de_Cambio_del_Dolar}\",\"\\n\")\n",
    "\n",
    "Monto_en_Dólares = float(input(\"Ingrese el monto en dólares\"))\n",
    "\n",
    "Conversion = float(Monto_en_Dólares * Tipo_de_Cambio_del_Dolar)\n",
    "\n",
    "print(f\"{Nombre}, {Monto_en_Dólares} dólares corresponde a {Conversion} colones\")\n"
   ]
  },
  {
   "cell_type": "markdown",
   "metadata": {},
   "source": [
    "# Problema #2\n",
    "\n",
    "### Calcular cuantos meses han pasado desde la fecha de mi nacimiento\n",
    "\n",
    "## Entrada: \n",
    "Leer fecha de nacimiento\n",
    "Leer fecha actual\n",
    "\n",
    "## Proceso:\n",
    "\n",
    "fecha actual - fecha nacimiento = Resultado\n",
    "Resultado * 12\n",
    "\n",
    "\n",
    "\n",
    "## Salida:\n",
    "\n",
    "Cantidad de meses desde el nacimiento"
   ]
  },
  {
   "cell_type": "code",
   "execution_count": 12,
   "metadata": {},
   "outputs": [
    {
     "name": "stdout",
     "output_type": "stream",
     "text": [
      "Bienvenido a nuesto sistema para calcular tus meses de vida \n",
      "\n",
      "Javier, desde tu nacimiento han transcurrido 349 meses, por lo que tienes 349 meses de vida\n",
      "\n",
      "¡Felicidades!\n",
      " Y recuerda, la vida es un eco: Lo que envíes, regresa\n"
     ]
    }
   ],
   "source": [
    "\"\"\"\n",
    "Vamos a calcular la cantidad de meses que han transcurrido desde su fecha de nacimiento hasta el día de hoy.\n",
    "Para esto el usuario deberá de indicarnos su fecha de nacimiento así como la fecha actual.\n",
    "Vamos a pedir que incluya \n",
    "\"\"\"\n",
    "print(\"Bienvenido a nuesto sistema para calcular tus meses de vida\",\"\\n\")\n",
    "nombre = input(\"Por favor Ingresa tu nombre\")\n",
    "\n",
    "año_de_nacimiento = int(input(f\"{nombre}, por favor introduce tu año de nacimiento\"))\n",
    "mes_de_nacimiento = int(input(f\"Por favor introduce tu mes de nacimiento (en número entero)\"))\n",
    "\n",
    "año_actual = int(input(f\" {nombre}, por favor introduce el año actual\"))\n",
    "mes_actual = int(input(f\"Por favor introduce el mes actual (en número entero)\"))\n",
    "\n",
    "años_transcurridos = año_actual - año_de_nacimiento\n",
    "meses_transcurridos = mes_actual - mes_de_nacimiento\n",
    "\n",
    "total_de_meses_transcurridos = (años_transcurridos *12) + meses_transcurridos\n",
    "\n",
    "print(f\"{nombre}, desde tu nacimiento han transcurrido {total_de_meses_transcurridos} meses, por lo que tienes {total_de_meses_transcurridos} meses de vida\"\"\\n\")\n",
    "print(\"¡Felicidades!\"\"\\n\",\"Y recuerda, la vida es un eco: Lo que envíes, regresa\")\n",
    "\n",
    "\n"
   ]
  },
  {
   "cell_type": "markdown",
   "metadata": {},
   "source": [
    "# Problema #3\n",
    "\n",
    "### Definir problema\n",
    "\n",
    "### Calcular el área de un tríangulo usando su base y su altura\n",
    "\n",
    "## Entrada:\n",
    "Leer base\n",
    "Leer altura\n",
    "\n",
    "## Proceso:\n",
    "\n",
    "(base * altura) / 2\n",
    "\n",
    "## Salida:\n",
    "\n",
    "El resultado nos dará a conocer la base del tríangulo"
   ]
  },
  {
   "cell_type": "code",
   "execution_count": 16,
   "metadata": {},
   "outputs": [
    {
     "name": "stdout",
     "output_type": "stream",
     "text": [
      "Hola, bienvenido a la calculadora de áreas de tríangulos \n",
      "\n",
      "El área de este tríangulo es de 38.75 m2\n"
     ]
    }
   ],
   "source": [
    "\"\"\" \n",
    "Vamos a calcular el área de un tríangulo.\n",
    "Para Esto vamos a necesitar que el usuario nos de la base y la altura\n",
    "\n",
    "\"\"\"\n",
    "\n",
    "print(\"Hola, bienvenido a la calculadora de áreas de tríangulos\",\"\\n\")\n",
    "Base = float(input(\"Por favor ingrese la medida de la base del tríangulo\"))\n",
    "Altura = float(input(\"Por favor ingrese la medida de la altura del tríangulo\"))\n",
    "\n",
    "area_del_triangulo = (Base * Altura) / 2\n",
    "\n",
    "print(f\"El área de este tríangulo es de {area_del_triangulo} m2\")\n",
    "\n",
    "\n",
    "\n"
   ]
  },
  {
   "cell_type": "markdown",
   "metadata": {},
   "source": [
    "# Problema #4\n",
    "\n",
    "### Definir problema\n",
    "\n",
    "### Convertir grados centígrados a Fahrenheit\n",
    "\n",
    "## Entrada:\n",
    "\n",
    "Leer centígrados\n",
    "Leer Fahrenheit\n",
    "\n",
    "## Proceso:\n",
    "\n",
    "F = Fahrenheit\n",
    "C = centígrados\n",
    "\n",
    "C-F= 9/5\n",
    "32 = Diferencia en el punto de congelación\n",
    "\n",
    "F = (9/5 * C) + 32\n",
    "\n",
    "## Salida:\n",
    "Resultado en grados Fahrenheit"
   ]
  },
  {
   "cell_type": "code",
   "execution_count": 21,
   "metadata": {},
   "outputs": [
    {
     "name": "stdout",
     "output_type": "stream",
     "text": [
      "El resultado sería: 50.0 grados fahrenheit\n"
     ]
    }
   ],
   "source": [
    "\"\"\" \n",
    "Vamos a realizar una conversión de grados centígrados a grados Fahrenheit.\n",
    "Para ello vamos a necesitar que el usuario introduzca los grados centígrados que sea\n",
    "pasar a Fahrenheit.\n",
    "\n",
    "\"\"\"\n",
    "\n",
    "grados_centrigrados = float(input(\"Por favor ingrese los grados centígrados que desea pasar a grados Fahrenheit\"))\n",
    "\n",
    "\n",
    "#9/5 es la diferencia que existe entre la escala F y C.\n",
    "# 32 es la constante para equilibrar las escalas y poder hacer la conversión\n",
    "\n",
    "grados_fahrenheit = (9/5 * grados_centrigrados) + 32\n",
    "\n",
    "print(f\"El resultado sería: {grados_fahrenheit} grados fahrenheit\")\n"
   ]
  }
 ],
 "metadata": {
  "colab": {
   "provenance": []
  },
  "kernelspec": {
   "display_name": "Python 3",
   "name": "python3"
  },
  "language_info": {
   "codemirror_mode": {
    "name": "ipython",
    "version": 3
   },
   "file_extension": ".py",
   "mimetype": "text/x-python",
   "name": "python",
   "nbconvert_exporter": "python",
   "pygments_lexer": "ipython3",
   "version": "3.13.2"
  }
 },
 "nbformat": 4,
 "nbformat_minor": 0
}
