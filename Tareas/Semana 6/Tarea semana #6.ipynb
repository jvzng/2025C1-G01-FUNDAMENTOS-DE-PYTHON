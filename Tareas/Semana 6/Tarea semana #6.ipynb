{
 "cells": [
  {
   "cell_type": "markdown",
   "metadata": {},
   "source": [
    "### **Caso: Cálculo de Total de Compras**\n",
    "\n",
    "#### <span style=\"color: var(--vscode-foreground); font-weight: normal;\">Imagina que estás desarrollando un pequeño programa para una tienda. Los clientes ingresan el precio de varios productos que están comprando, uno por uno. El programa debe seguir pidiendo el precio de cada producto hasta que el usuario indique que no va a ingresar más productos, y al final, debe calcular y mostrar el total a pagar.</span>"
   ]
  },
  {
   "cell_type": "code",
   "execution_count": null,
   "metadata": {},
   "outputs": [],
   "source": [
    "#respuesta\n",
    "\"\"\"  \n",
    "Datos que debo de tener presente:\n",
    "Vamos a definir una fución utilizando def.\n",
    "Vamos a utilizar while true par que se repita la función hasta que el usuario indique que quiere parar.\n",
    "Vamos a agregar break para que detenga el while true en caso de que se indique que ha terminado de agregar los datos.\n",
    "El try y except, para ayudarnos a dar salida a los errores en caso de que exista alguno.\n",
    "\n",
    "\"\"\"\n",
    "def calcular_total():\n",
    "    total = 0.0\n",
    "    while True:\n",
    "        precio = input(\"Ingrese el precio del producto (o escriba 'fin' para terminar): \")\n",
    "        \n",
    "        if precio.lower() == 'fin':\n",
    "            break\n",
    "        \n",
    "        try:\n",
    "            precio = float(precio)\n",
    "            total += precio\n",
    "        except ValueError:\n",
    "            print(\"Por favor, ingrese un número válido.\")\n",
    "    \n",
    "    print(f\"El total a pagar es: ₡{total:.2f}\")\n",
    "\n",
    "# Llamar a la función para ejecutar el programa\n",
    "calcular_total()"
   ]
  },
  {
   "cell_type": "markdown",
   "metadata": {},
   "source": [
    "### <mark>3.3. **Ejercicio Práctico -** Tabla de Multiplicar</mark>\n",
    "\n",
    "**Descripción:** Crea un programa que pida al usuario un número entero `n` y muestre la tabla de multiplicar de ese número del 1 al 10. Utiliza un ciclo `while` para generar la tabla.\n",
    "\n",
    "**Instrucciones:**\n",
    "\n",
    "1. Solicita al usuario que ingrese un número entero.\n",
    "2. Inicializa una variable `i` en 1.\n",
    "3. Utiliza un ciclo `while` para que mientras `i` sea menor o igual a 10:\n",
    "    - Multiplica `n` por `i` y muestra el resultado en el formato \"n x i = resultado\".\n",
    "    - Incrementa `i` en 1.\n",
    "4. Al final, muestra la tabla completa.\n",
    "\n",
    "**Ejemplo de salida:**\n",
    "\n",
    "```\n",
    "\n",
    "Ingrese un número entero: 3\n",
    "Tabla de multiplicar de 3:\n",
    "\n",
    "3 x 1 = 3\n",
    "3 x 2 = 6\n",
    "3 x 3 = 9\n",
    "3 x 4 = 12\n",
    "3 x 5 = 15\n",
    "3 x 6 = 18\n",
    "3 x 7 = 21\n",
    "3 x 8 = 24\n",
    "3 x 9 = 27\n",
    "3 x 10 = 30\n",
    "\n",
    "```"
   ]
  },
  {
   "cell_type": "code",
   "execution_count": null,
   "metadata": {},
   "outputs": [],
   "source": [
    "#Respuesta\n",
    "# Solicitar al usuario que ingrese un número entero\n",
    "numero_entero = int(input(\"Ingrese un número entero: \"))\n",
    "\n",
    "# Iniciar la variable x en 1\n",
    "x = 1\n",
    "\n",
    "# Hacer un ciclo while para generar la tabla de multiplicar\n",
    "print(f\"Tabla de multiplicar del {numero_entero}:\")\n",
    "while x <= 10:\n",
    "    resultado = numero_entero * x\n",
    "    print(f\"{numero_entero} x {x} = {resultado}\")\n",
    "    x += 1\n",
    "\n",
    "print(\"¡Tabla de multiplicar completa!\")"
   ]
  },
  {
   "cell_type": "markdown",
   "metadata": {},
   "source": [
    "#### <mark>3.3. Ejercicio Práctico</mark>\n",
    "\n",
    "Escribe un programa que imprima los números del 1 al 10 usando un bucle for. Luego, realiza el mismo ejercicio con un bucle while."
   ]
  },
  {
   "cell_type": "code",
   "execution_count": 9,
   "metadata": {},
   "outputs": [
    {
     "name": "stdout",
     "output_type": "stream",
     "text": [
      "1\n",
      "2\n",
      "3\n",
      "4\n",
      "5\n",
      "6\n",
      "7\n",
      "8\n",
      "9\n",
      "10\n"
     ]
    }
   ],
   "source": [
    "#respuesta\n",
    "# Bucle for para imprimir los números del 1 al 10\n",
    "for x in range(1, 11):\n",
    "    print(x)\n"
   ]
  },
  {
   "cell_type": "code",
   "execution_count": 13,
   "metadata": {},
   "outputs": [],
   "source": [
    "#respuesta\n",
    "# Bucle while para imprimir los números del 1 al 10\n",
    "\n",
    "while x <= 10:\n",
    "    print(x)\n",
    "    x += 1\n"
   ]
  },
  {
   "cell_type": "markdown",
   "metadata": {},
   "source": [
    "**Caso 2: Suma de Números**\n",
    "- **Presentación:** Supongamos que tienes una lista de números y quieres calcular la suma total. ¿Cómo podrías hacer esto en Python?    \n",
    "- **Salida Esperada:**    \n",
    "    - La suma total de los números en la lista.\n",
    "- **Preguntas adicionales:**    \n",
    "    - ¿Cómo podrías calcular el promedio de los números?\n",
    "    - ¿Y si quisieras encontrar el número más grande y el más pequeño?\n",
    "    - ¿Puedes modificar el código para que solo sume los números pares?"
   ]
  },
  {
   "cell_type": "code",
   "execution_count": 15,
   "metadata": {},
   "outputs": [
    {
     "name": "stdout",
     "output_type": "stream",
     "text": [
      "La suma total de los números es: 180\n",
      "El promedio de los números es: 36.0\n",
      "El número más grande es: 88\n",
      "El número más pequeño es: 11\n",
      "La suma de los números pares es: 144\n"
     ]
    }
   ],
   "source": [
    "#respuesta\n",
    "#lista: Suma de números\n",
    "numeros = [11, 14, 25, 42, 88]\n",
    "\n",
    "# Calcular la suma total\n",
    "suma_total = sum(numeros)\n",
    "\n",
    "# salida\n",
    "print(f\"La suma total de los números es: {suma_total}\")\n",
    "\n",
    "#Lista: Promedio de los números\n",
    "promedio = suma_total / len(numeros)\n",
    "\n",
    "# Salida\n",
    "print(f\"El promedio de los números es: {promedio}\")\n",
    "\n",
    "#Encontrar el número más grande y el más pequeño\n",
    "maximo = max(numeros)\n",
    "\n",
    "minimo = min(numeros)\n",
    "\n",
    "# Mostrar los resultados\n",
    "print(f\"El número más grande es: {maximo}\")\n",
    "print(f\"El número más pequeño es: {minimo}\")\n",
    "\n",
    "#Suma de solo los números pares\n",
    "suma_pares = sum(num for num in numeros if num % 2 == 0)\n",
    "\n",
    "# Salida\n",
    "print(f\"La suma de los números pares es: {suma_pares}\")\n",
    "\n"
   ]
  }
 ],
 "metadata": {
  "kernelspec": {
   "display_name": "Python 3",
   "language": "python",
   "name": "python3"
  },
  "language_info": {
   "codemirror_mode": {
    "name": "ipython",
    "version": 3
   },
   "file_extension": ".py",
   "mimetype": "text/x-python",
   "name": "python",
   "nbconvert_exporter": "python",
   "pygments_lexer": "ipython3",
   "version": "3.13.2"
  }
 },
 "nbformat": 4,
 "nbformat_minor": 2
}
