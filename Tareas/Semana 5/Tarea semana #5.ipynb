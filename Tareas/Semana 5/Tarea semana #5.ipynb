{
 "cells": [
  {
   "cell_type": "markdown",
   "metadata": {},
   "source": [
    "# NOTEBOOK 02 - Tipos de datos y Variables\n",
    "## Fundamentos de Programación: Tipos de Datos, Variables y Operaciones Básicas\n",
    "### Prof: Ing. Andrés Mena Abarca\n",
    "\n",
    "> ## Nombre del estudiante: Javier Andrés Züñiga Miranda\n",
    "\n",
    "### Ejercicio Final:\n",
    "\n",
    "Combina operadores matemáticos, de comparación y lógicos. Escribe un programa que pida al usuario dos números y realice las siguientes tareas:\n",
    "\n",
    "1. Verifique si el primer número es mayor que el segundo.\n",
    "2. Calcule la suma, resta, división y módulo de ambos.\n",
    "3. Determine si la suma de ambos números es mayor que 20 **y** si alguno de los dos es menor que 5."
   ]
  },
  {
   "cell_type": "code",
   "execution_count": 2,
   "metadata": {},
   "outputs": [
    {
     "name": "stdout",
     "output_type": "stream",
     "text": [
      ", bienvenido a JAZUBLA developers\n",
      "\n"
     ]
    },
    {
     "ename": "ValueError",
     "evalue": "could not convert string to float: ''",
     "output_type": "error",
     "traceback": [
      "\u001b[0;31m---------------------------------------------------------------------------\u001b[0m",
      "\u001b[0;31mValueError\u001b[0m                                Traceback (most recent call last)",
      "Cell \u001b[0;32mIn[2], line 15\u001b[0m\n\u001b[1;32m     11\u001b[0m nombre \u001b[38;5;241m=\u001b[39m \u001b[38;5;28minput\u001b[39m(\u001b[38;5;124m\"\u001b[39m\u001b[38;5;124mPor Favor ingrese su nombre\u001b[39m\u001b[38;5;124m\"\u001b[39m)\n\u001b[1;32m     13\u001b[0m \u001b[38;5;28mprint\u001b[39m(\u001b[38;5;124mf\u001b[39m\u001b[38;5;124m\"\u001b[39m\u001b[38;5;132;01m{\u001b[39;00mnombre\u001b[38;5;132;01m}\u001b[39;00m\u001b[38;5;124m, bienvenido a JAZUBLA developers\u001b[39m\u001b[38;5;124m\"\u001b[39m\u001b[38;5;124m\"\u001b[39m\u001b[38;5;130;01m\\n\u001b[39;00m\u001b[38;5;124m\"\u001b[39m)\n\u001b[0;32m---> 15\u001b[0m num1 \u001b[38;5;241m=\u001b[39m \u001b[38;5;28;43mfloat\u001b[39;49m\u001b[43m(\u001b[49m\u001b[38;5;28;43minput\u001b[39;49m\u001b[43m(\u001b[49m\u001b[38;5;124;43m\"\u001b[39;49m\u001b[38;5;124;43mPor favor ingrese el primer valor numérico: \u001b[39;49m\u001b[38;5;124;43m\"\u001b[39;49m\u001b[43m)\u001b[49m\u001b[43m)\u001b[49m\n\u001b[1;32m     16\u001b[0m num2 \u001b[38;5;241m=\u001b[39m \u001b[38;5;28mfloat\u001b[39m(\u001b[38;5;28minput\u001b[39m(\u001b[38;5;124m\"\u001b[39m\u001b[38;5;124mPor favor ingrese el segundo valor numérico: \u001b[39m\u001b[38;5;124m\"\u001b[39m))\n\u001b[1;32m     17\u001b[0m suma \u001b[38;5;241m=\u001b[39m num1 \u001b[38;5;241m+\u001b[39m num2\n",
      "\u001b[0;31mValueError\u001b[0m: could not convert string to float: ''"
     ]
    }
   ],
   "source": [
    "\"\"\" \n",
    "Owner: Javier Zúñiga Miranda\n",
    "Date: Feb 19, 2025\n",
    "Description: \n",
    "1. Verifique si el primer número es mayor que el segundo.\n",
    "2. Calcule la suma, resta, división y módulo de ambos.\n",
    "3. Determine si la suma de ambos números es mayor que 20 **y** si alguno de los dos es menor que 5.\n",
    "\n",
    "\"\"\"\n",
    "\n",
    "nombre = input(\"Por Favor ingrese su nombre\")\n",
    "\n",
    "print(f\"{nombre}, bienvenido a JAZUBLA developers\"\"\\n\")\n",
    "\n",
    "num1 = float(input(\"Por favor ingrese el primer valor numérico: \"))\n",
    "num2 = float(input(\"Por favor ingrese el segundo valor numérico: \"))\n",
    "suma = num1 + num2\n",
    "resta = num1 - num2\n",
    "division_entera = num1 // num2\n",
    "modulo = num1 % num2\n",
    "\n",
    "\n",
    "print(num1,num2)\n",
    "print(\"El primer número ingresado es mayor que el segundo número?: \", num1 > num2)\n",
    "print(f\"El resultado de la suma de {num1} + {num2} es: {suma}\")\n",
    "print(f\"El resultado de la resta de {num1} - {num2} es: {resta}\")\n",
    "print(f\"El resultado de la division entera de {num1} / {num2} es: {division_entera}\")\n",
    "print(f\"El resultado MOD de {num1} % {num2} es: {modulo}\")\n",
    "print(f\"La suma de {num1} + {num2} es igual a {suma}. Este resultado es mayor a 20?. \", num1 + num2 > 20)\n",
    "print(f\"Alguno de los valores ingresados es meneor que 5? Siendo {num1} el primer valor ingresado y {num2} el segundo valor dado\", num1 < 5 or num2 < 5)\n",
    "\n",
    "             "
   ]
  }
 ],
 "metadata": {
  "colab": {
   "provenance": []
  },
  "kernelspec": {
   "display_name": "Python 3",
   "name": "python3"
  },
  "language_info": {
   "codemirror_mode": {
    "name": "ipython",
    "version": 3
   },
   "file_extension": ".py",
   "mimetype": "text/x-python",
   "name": "python",
   "nbconvert_exporter": "python",
   "pygments_lexer": "ipython3",
   "version": "3.13.2"
  }
 },
 "nbformat": 4,
 "nbformat_minor": 0
}
