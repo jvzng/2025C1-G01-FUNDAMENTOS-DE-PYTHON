{
 "cells": [
  {
   "cell_type": "markdown",
   "metadata": {},
   "source": [
    "# NOTEBOOK 02 - Tipos de datos y Variables\n",
    "## Fundamentos de Programación: Tipos de Datos, Variables y Operaciones Básicas\n",
    "### Prof: Ing. Andrés Mena Abarca\n",
    "\n",
    "> ## Nombre del estudiante: Javier Andrés Züñiga Miranda\n",
    "\n",
    "### Ejercicio Final:\n",
    "\n",
    "Combina operadores matemáticos, de comparación y lógicos. Escribe un programa que pida al usuario dos números y realice las siguientes tareas:\n",
    "\n",
    "1. Verifique si el primer número es mayor que el segundo.\n",
    "2. Calcule la suma, resta, división y módulo de ambos.\n",
    "3. Determine si la suma de ambos números es mayor que 20 **y** si alguno de los dos es menor que 5."
   ]
  },
  {
   "cell_type": "code",
   "execution_count": 1,
   "metadata": {},
   "outputs": [
    {
     "name": "stdout",
     "output_type": "stream",
     "text": [
      "javier, bienvenido a JAZUBLA developers\n",
      "\n",
      "10.0 15.0\n",
      "El primer número ingresado es mayor que el segundo número?:  False\n",
      "El resultado de la suma de 10.0 + 15.0 es: 25.0\n",
      "El resultado de la resta de 10.0 - 15.0 es: -5.0\n",
      "El resultado de la division entera de 10.0 / 15.0 es: 0.0\n",
      "El resultado MOD de 10.0 % 15.0 es: 10.0\n",
      "La suma de 10.0 + 15.0 es igual a 25.0. Este resultado es mayor a 20?.  True\n",
      "Alguno de los valores ingresados es meneor que 5? Siendo 10.0 el primer valor ingresado y 15.0 el segundo valor dado False\n"
     ]
    }
   ],
   "source": [
    "\"\"\" \n",
    "Owner: Javier Zúñiga Miranda\n",
    "Date: Feb 19, 2025\n",
    "Description: \n",
    "1. Verifique si el primer número es mayor que el segundo.\n",
    "2. Calcule la suma, resta, división y módulo de ambos.\n",
    "3. Determine si la suma de ambos números es mayor que 20 **y** si alguno de los dos es menor que 5.\n",
    "\n",
    "\"\"\"\n",
    "\n",
    "nombre = input(\"Por Favor ingrese su nombre\")\n",
    "\n",
    "print(f\"{nombre}, bienvenido a JAZUBLA developers\"\"\\n\")\n",
    "\n",
    "num1 = float(input(\"Por favor ingrese el primer valor numérico: \"))\n",
    "num2 = float(input(\"Por favor ingrese el segundo valor numérico: \"))\n",
    "suma = num1 + num2\n",
    "resta = num1 - num2\n",
    "division_entera = num1 // num2\n",
    "modulo = num1 % num2\n",
    "\n",
    "\n",
    "print(num1,num2)\n",
    "print(\"El primer número ingresado es mayor que el segundo número?: \", num1 > num2)\n",
    "print(f\"El resultado de la suma de {num1} + {num2} es: {suma}\")\n",
    "print(f\"El resultado de la resta de {num1} - {num2} es: {resta}\")\n",
    "print(f\"El resultado de la division entera de {num1} / {num2} es: {division_entera}\")\n",
    "print(f\"El resultado MOD de {num1} % {num2} es: {modulo}\")\n",
    "print(f\"La suma de {num1} + {num2} es igual a {suma}. Este resultado es mayor a 20?. \", num1 + num2 > 20)\n",
    "print(f\"Alguno de los valores ingresados es meneor que 5? Siendo {num1} el primer valor ingresado y {num2} el segundo valor dado\", num1 < 5 or num2 < 5)\n",
    "\n",
    "             "
   ]
  }
 ],
 "metadata": {
  "colab": {
   "provenance": []
  },
  "kernelspec": {
   "display_name": "Python 3",
   "name": "python3"
  },
  "language_info": {
   "codemirror_mode": {
    "name": "ipython",
    "version": 3
   },
   "file_extension": ".py",
   "mimetype": "text/x-python",
   "name": "python",
   "nbconvert_exporter": "python",
   "pygments_lexer": "ipython3",
   "version": "3.13.2"
  }
 },
 "nbformat": 4,
 "nbformat_minor": 0
}
