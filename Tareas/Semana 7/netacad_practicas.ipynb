{
 "cells": [
  {
   "cell_type": "markdown",
   "metadata": {},
   "source": [
    "3.1.6   LAB   Variables ‒ Preguntas y Respuestas\n",
    "Escenario\n",
    "\n",
    "Usando uno de los operadores de comparación en Python, escribe un programa simple de dos líneas que tome el parámetro n como entrada, que es un entero, e imprime False si n es menor que 100, y True if n es mayor o igual que 100.\n",
    "\n",
    "No debes crear ningún bloque if (hablaremos de ellos muy pronto). Prueba tu código usando los datos que te proporcionamos.\n",
    "\n",
    "Datos de Prueba\n",
    "\n",
    "Entrada de muestra: 55\n",
    "Salida esperada: False\n",
    "\n",
    "Entrada de muestra: 99\n",
    "Salida esperada: False\n",
    "\n",
    "\n",
    "Entrada de muestra: 100\n",
    "Salida esperada: True\n",
    "\n",
    "\n",
    "Entrada de muestra: 101\n",
    "Salida esperada: True\n",
    "\n",
    "\n",
    "Entrada de muestra: -5\n",
    "Salida esperada: False\n",
    "\n",
    "\n",
    "Entrada de muestra: +123\n",
    "Salida esperada:True"
   ]
  },
  {
   "cell_type": "code",
   "execution_count": 11,
   "metadata": {},
   "outputs": [
    {
     "name": "stdout",
     "output_type": "stream",
     "text": [
      "True\n"
     ]
    }
   ],
   "source": [
    "n = int(input(\"Por favor ingresa un número entero\"))\n",
    "print(n>=100)"
   ]
  },
  {
   "cell_type": "markdown",
   "metadata": {},
   "source": [
    "Escenario\n",
    "\n",
    "Espatifilo, más comúnmente conocida como la planta de Cuna de Moisés o flor de la paz, es una de las plantas para interiores más populares que filtra las toxinas dañinas del aire. Algunas de las toxinas que neutraliza incluyen benceno, formaldehído y amoníaco.\n",
    "\n",
    "Imagina que tu programa de computadora ama estas plantas. Cada vez que recibe una entrada en forma de la palabra Espatifilo, grite involuntariamente a la consola la siguiente cadena: \"¡Espatifilo es la mejor planta de todas!\"\n",
    "\n",
    "Escribe un programa que utilice el concepto de ejecución condicional, tome una cadena como entrada y que:\n",
    "\n",
    "imprima el enunciado \"Si - ¡El Espatifilo! es la mejor planta de todos los tiempos!\" en la pantalla si la cadena ingresada es \"ESPATIFILIO\" (mayúsculas)\n",
    "imprima \"No, ¡quiero un gran Espatifilo!\" si la cadena ingresada es \"espatifilo\" (minúsculas)\n",
    "imprima \"¡Espatifilo!, ¡No [entrada]!\" de lo contrario. Nota: [entrada] es la cadena que se toma como entrada.\n",
    "Prueba tu código con los datos que te proporcionamos. ¡Y hazte de un Espatifilo también!\n",
    "\n",
    "\n",
    "Datos de Prueba:\n",
    "Entrada de muestra: espatifilo\n",
    "\n",
    "Salida esperada: No, ¡quiero un gran Espatifilo!\n",
    "\n",
    "\n",
    "Entrada de muestra: pelargonio\n",
    "\n",
    "Salida esperada: ¡Espatifilo!, ¡No pelargonio!\n",
    "\n",
    "\n",
    "Entrada de muestra: Espatifilo\n",
    "\n",
    "Salida esperada: Si, ¡El Espatifilo! es la mejor planta de todos l"
   ]
  },
  {
   "cell_type": "code",
   "execution_count": null,
   "metadata": {},
   "outputs": [
    {
     "name": "stdout",
     "output_type": "stream",
     "text": [
      "¡Espatifilo es la mejor planta de todas!\n"
     ]
    }
   ],
   "source": [
    "Espatifilo = \"¡Espatifilo es la mejor planta de todas!\"\n",
    "\n",
    "if (Espatifilo == True):\n",
    "    print(\"¡Espatifilo es la mejor planta de todas!\")\n",
    "    \n"
   ]
  }
 ],
 "metadata": {
  "kernelspec": {
   "display_name": "Python 3",
   "language": "python",
   "name": "python3"
  },
  "language_info": {
   "codemirror_mode": {
    "name": "ipython",
    "version": 3
   },
   "file_extension": ".py",
   "mimetype": "text/x-python",
   "name": "python",
   "nbconvert_exporter": "python",
   "pygments_lexer": "ipython3",
   "version": "3.13.2"
  }
 },
 "nbformat": 4,
 "nbformat_minor": 2
}
